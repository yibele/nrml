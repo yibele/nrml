{
 "cells": [
  {
   "cell_type": "code",
   "execution_count": 61,
   "metadata": {
    "collapsed": true
   },
   "outputs": [],
   "source": [
    "import numpy as np\n",
    "from scipy.io import loadmat\n",
    "from sklearn.metrics.pairwise import euclidean_distances,cosine_similarity\n",
    "from sklearn.decomposition import PCA"
   ]
  },
  {
   "cell_type": "code",
   "execution_count": 9,
   "metadata": {
    "collapsed": true
   },
   "outputs": [],
   "source": [
    "data = loadmat('./LBP_KinFaceW-II_FS.mat')"
   ]
  },
  {
   "cell_type": "code",
   "execution_count": 149,
   "metadata": {},
   "outputs": [
    {
     "data": {
      "text/plain": [
       "400"
      ]
     },
     "execution_count": 149,
     "metadata": {},
     "output_type": "execute_result"
    }
   ],
   "source": [
    "T = 1\n",
    "knn = 5\n",
    "Wdims = 100\n",
    "\n",
    "fold = data['fold']\n",
    "idxa = data['idxa']\n",
    "idxb = data['idxb']\n",
    "idxa = idxa-1\n",
    "idxb = idxb-1\n",
    "matches = data['matches']\n",
    "ux = data['ux']\n",
    "un = np.unique(fold)\n",
    "nfold = len(un)\n",
    "\n",
    "pc = PCA(n_components=Wdims)\n",
    "\n",
    "\n",
    "for i in range(nfold):\n",
    "    trainMask  = fold != i\n",
    "    testMask = fold == i\n",
    "    tr_idxa = idxa[trainMask]\n",
    "    tr_idxb = idxb[trainMask]\n",
    "    ts_idxa = idxa[testMask]\n",
    "    ts_idxb = idxb[testMask]\n",
    "    tr_matches = matches[trainMask]\n",
    "    # do pca on training data\n",
    "    X = ux \n",
    "    pc.fit(X)\n",
    "    X = pc.transform(X)\n",
    "    tr_xa_pos = X[tr_idxa[tr_matches],:]\n",
    "    tr_xb_pos = X[tr_idxb[tr_matches],:]\n",
    "    ts_xa = X[ts_idxa,:]\n",
    "    ts_xb = X[ts_idxb,:]"
   ]
  },
  {
   "cell_type": "code",
   "execution_count": 144,
   "metadata": {},
   "outputs": [],
   "source": [
    "def nrml_train(xa,xb,k,dim,t):\n",
    "    N = xa.shape[0]\n",
    "    \n",
    "    for i in range(t):\n",
    "        DtrueTraining = euclidean_distances(xa)\n",
    "        \n"
   ]
  },
  {
   "cell_type": "code",
   "execution_count": 33,
   "metadata": {
    "collapsed": true
   },
   "outputs": [],
   "source": [
    "# test part\n",
    "xa = np.random.rand(10,10)\n",
    "xb = np.random.rand(10,10)"
   ]
  },
  {
   "cell_type": "code",
   "execution_count": 35,
   "metadata": {},
   "outputs": [],
   "source": [
    "nr = nrml(xa,xb,5,10,1000)\n",
    "xa = nr.disMat(xa)\n",
    "xb = nr.disMat(xb)\n"
   ]
  },
  {
   "cell_type": "code",
   "execution_count": null,
   "metadata": {
    "collapsed": true
   },
   "outputs": [],
   "source": []
  }
 ],
 "metadata": {
  "kernelspec": {
   "display_name": "Python 3",
   "language": "python",
   "name": "python3"
  },
  "language_info": {
   "codemirror_mode": {
    "name": "ipython",
    "version": 3
   },
   "file_extension": ".py",
   "mimetype": "text/x-python",
   "name": "python",
   "nbconvert_exporter": "python",
   "pygments_lexer": "ipython3",
   "version": "3.6.1"
  }
 },
 "nbformat": 4,
 "nbformat_minor": 2
}
